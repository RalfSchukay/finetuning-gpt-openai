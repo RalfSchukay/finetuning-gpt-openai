{
 "cells": [
  {
   "cell_type": "markdown",
   "id": "0935964b-e2c9-4819-a060-47faa55522ee",
   "metadata": {
    "editable": true,
    "slideshow": {
     "slide_type": ""
    },
    "tags": []
   },
   "source": [
    "# Finetuning GPT 3.5 Turbo\n",
    "\n",
    "This notebook finetunes GTP 3.5 Turbo\n"
   ]
  },
  {
   "cell_type": "markdown",
   "id": "ce60be0f-a6c1-4abb-b624-649dbd06b7ae",
   "metadata": {
    "jp-MarkdownHeadingCollapsed": true
   },
   "source": [
    "# Step 0: Setup"
   ]
  },
  {
   "cell_type": "code",
   "execution_count": null,
   "id": "bc42a38d-095b-4109-a35e-4c4b8ec563ae",
   "metadata": {},
   "outputs": [],
   "source": [
    "# upgrade openai library, restart kernel\n",
    "\n",
    "#pip install --upgrade openai\n",
    "#pip install requests\n"
   ]
  },
  {
   "cell_type": "code",
   "execution_count": 27,
   "id": "f04fb570-4969-488a-bcf8-23d9173b3767",
   "metadata": {
    "scrolled": true
   },
   "outputs": [
    {
     "data": {
      "text/plain": [
       "'\\nHEADERS = {\\n    \"Authorization\": f\"Bearer {OPENAI_API_KEY}\",\\n    \"Content-Type\": \"application/json\"\\n}\\n'"
      ]
     },
     "execution_count": 27,
     "metadata": {},
     "output_type": "execute_result"
    }
   ],
   "source": [
    "# imports and settings\n",
    "# TODO: enter  API key and org ID from your ChatGPT Plus account, see here: https://platform.openai.com/account/org-settings\n",
    "\n",
    "import os\n",
    "import openai\n",
    "import requests\n",
    "import json\n",
    "import datetime\n",
    "\n",
    "OPENAI_API_KEY = \"YOURAPIKEY\" # TODO: Enter API key\n",
    "ORG_ID = \"YOUORGID\" # TODO: Enter Org ID\n",
    "\n",
    "TRAINING_FILE_NAME = \"data-finetuning-10examples.jsonl\" # training file in JSONL format\n",
    "\n",
    "# set API key\n",
    "#openai.api_key = os.getenv(\"OPENAI_API_KEY\")\n",
    "openai.api_key = OPENAI_API_KEY\n"
   ]
  },
  {
   "cell_type": "markdown",
   "id": "8629fb1c-ae81-4b0a-bc5b-26e93fffca19",
   "metadata": {
    "editable": true,
    "jp-MarkdownHeadingCollapsed": true,
    "slideshow": {
     "slide_type": ""
    },
    "tags": []
   },
   "source": [
    "# Step 1: Prepare training data for finetuning"
   ]
  },
  {
   "cell_type": "markdown",
   "id": "a28f8d06-6ad2-4f82-b968-e5d4f14f8fbe",
   "metadata": {},
   "source": [
    "## Requirements:\n",
    "min. 10 examples needed for training, format: JSONL\n",
    "\n",
    "## Hint: Generate dummy data with ChatGPT (Prompt)\n",
    "\n",
    "Erstelle Dummy-Daten, die zum Model-Finetuning von OpenAIs GPT-3 Turbo verwendet werden können.\n",
    "Die Dummy-Daten sollen den Kundensupport für einen Hochleistungs-Staubsauger mit Namen \"T-1000\" simulieren. \n",
    "Denke Dir mögliche Kundenfragen und die dazu passende Kundenservice-Antwort aus.\n",
    "Der Kunde soll genervt anfragen. \n",
    "Der Kundenservice soll höflich und kurz antworten. \n",
    "Verwende das im folgenden gegebene JSONL-Format.\n",
    "\n",
    "Generiere den System-Prompt und 10 Beispiele.\n",
    "\n",
    "Beispiel für das JSONL-Format:\n",
    "{\"messages\": [{\"role\": \"system\", \"content\": \"Marv is a factual chatbot that is also sarcastic.\"}, {\"role\": \"user\", \"content\": \"What's the capital of France?\"}, {\"role\": \"assistant\", \"content\": \"Paris, as if everyone doesn't know that already.\"}]}\n",
    "{\"messages\": [{\"role\": \"system\", \"content\": \"Marv is a factual chatbot that is also sarcastic.\"}, {\"role\": \"user\", \"content\": \"Who wrote 'Romeo and Juliet'?\"}, {\"role\": \"assistant\", \"content\": \"Oh, just some guy named William Shakespeare. Ever heard of him?\"}]}\n",
    "{\"messages\": [{\"role\": \"system\", \"content\": \"Marv is a factual chatbot that is also sarcastic.\"}, {\"role\": \"user\", \"content\": \"How far is the Moon from Earth?\"}, {\"role\": \"assistant\", \"content\": \"Around 384,400 kilometers. Give or take a few, like that really matters.\"}]}"
   ]
  },
  {
   "cell_type": "code",
   "execution_count": 88,
   "id": "969ef275-ae85-474b-9ba9-4a99d86aa855",
   "metadata": {},
   "outputs": [
    {
     "data": {
      "text/plain": [
       "\"\\n# Save data to a file in JSONL format\\nwith open(TRAINING_FILE_NAME, 'w') as file:\\n    for item in data:\\n        file.write(json.dumps(item) + '\\n')\\n\""
      ]
     },
     "execution_count": 88,
     "metadata": {},
     "output_type": "execute_result"
    }
   ],
   "source": [
    "\n",
    "system_prompt = \"Du chattest jetzt mit dem Kundenservice für den Hochleistungs-Staubsauger T-1000.\"\n",
    "\n",
    "data = [\n",
    "    {\"messages\": [{\"role\": \"system\", \"content\": system_prompt}, {\"role\": \"user\", \"content\": \"Warum saugt mein T-1000 nicht mehr richtig?\"}, \n",
    "                      {\"role\": \"assistant\", \"content\": \"Es könnte ein verstopfter Filter sein. Bitte überprüfen Sie den Filter und reinigen Sie ihn gegebenenfalls.\"}]},\n",
    "    {\"messages\": [{\"role\": \"system\", \"content\": system_prompt}, {\"role\": \"user\", \"content\": \"Warum ist dieser Staubsauger so laut? Ich kann kaum denken, wenn er läuft!\"}, \n",
    "                      {\"role\": \"assistant\", \"content\": \"Entschuldigung für die Unannehmlichkeiten. Die Lautstärke kann aufgrund von Fremdkörpern in der Bürste steigen. Bitte überprüfen Sie diese.\"}]},\n",
    "    {\"messages\": [{\"role\": \"system\", \"content\": system_prompt}, {\"role\": \"user\", \"content\": \"Warum hält der Akku nicht so lange, wie in der Werbung versprochen?\"}, \n",
    "                      {\"role\": \"assistant\", \"content\": \"Es könnte viele Gründe geben. Zum Beispiel könnte ein häufiges und langes Saugen den Akku schneller entladen. Stellen Sie sicher, dass Sie den Staubsauger nach jedem Gebrauch aufladen.\"}]},\n",
    "    {\"messages\": [{\"role\": \"system\", \"content\": system_prompt}, {\"role\": \"user\", \"content\": \"Mein T-1000 verliert ständig an Saugkraft, was soll das?\"}, \n",
    "                      {\"role\": \"assistant\", \"content\": \"Möglicherweise ist der Behälter voll. Bitte leeren Sie ihn und versuchen Sie es erneut.\"}]},\n",
    "    {\"messages\": [{\"role\": \"system\", \"content\": system_prompt}, {\"role\": \"user\", \"content\": \"Wieso ist das Kabel meines Staubsaugers ständig verheddert?\"}, \n",
    "                      {\"role\": \"assistant\", \"content\": \"Stellen Sie sicher, dass Sie das Kabel korrekt aufwickeln und Lagerungstipps befolgen.\"}]},\n",
    "    {\"messages\": [{\"role\": \"system\", \"content\": system_prompt}, {\"role\": \"user\", \"content\": \"Warum funktioniert die Fernbedienung nicht mehr?\"}, \n",
    "                      {\"role\": \"assistant\", \"content\": \"Es könnten die Batterien leer sein. Bitte tauschen Sie diese aus.\"}]},\n",
    "    {\"messages\": [{\"role\": \"system\", \"content\": system_prompt}, {\"role\": \"user\", \"content\": \"Der Filter war nach nur einem Monat schon kaputt. Was soll das?\"}, \n",
    "                      {\"role\": \"assistant\", \"content\": \"Das tut uns leid. Bitte wenden Sie sich an unseren Support, um einen Ersatz zu erhalten.\"}]},\n",
    "    {\"messages\": [{\"role\": \"system\", \"content\": system_prompt}, {\"role\": \"user\", \"content\": \"Kann ich kein normales Reinigungsmittel für meinen T-1000 verwenden?\"}, \n",
    "                      {\"role\": \"assistant\", \"content\": \"Wir empfehlen spezielle Reinigungsmittel, um die Lebensdauer zu verlängern und Beschädigungen zu vermeiden.\"}]},\n",
    "    {\"messages\": [{\"role\": \"system\", \"content\": system_prompt}, {\"role\": \"user\", \"content\": \"Wo finde ich Ersatzteile für meinen T-1000?\"}, \n",
    "                      {\"role\": \"assistant\", \"content\": \"Ersatzteile können direkt über unsere Website oder autorisierte Händler bezogen werden.\"}]},\n",
    "    {\"messages\": [{\"role\": \"system\", \"content\": system_prompt}, {\"role\": \"user\", \"content\": \"Wie reinige ich die Bürsten meines T-1000 richtig?\"}, \n",
    "                      {\"role\": \"assistant\", \"content\": \"Entnehmen Sie die Bürsten und entfernen Sie Haare und Schmutz. Eine detaillierte Anleitung finden Sie im Benutzerhandbuch.\"}]}\n",
    "]\n",
    "\n",
    "# Save data to a file in JSONL format\n",
    "with open(TRAINING_FILE_NAME, 'w') as file:\n",
    "    for item in data:\n",
    "        file.write(json.dumps(item) + '\\n')"
   ]
  },
  {
   "cell_type": "markdown",
   "id": "73abe884-47d8-44ad-abbd-32cc0b8e2b9f",
   "metadata": {
    "jp-MarkdownHeadingCollapsed": true
   },
   "source": [
    "# Step 2: Upload training file\n"
   ]
  },
  {
   "cell_type": "code",
   "execution_count": 39,
   "id": "0109bd01-f12e-4b89-aef3-c1c8218ffdd0",
   "metadata": {},
   "outputs": [
    {
     "data": {
      "text/plain": [
       "<File file id=file-Hxy2AYUUFwXXUgU1h6aSYqI0 at 0x1157f8a70> JSON: {\n",
       "  \"object\": \"file\",\n",
       "  \"id\": \"file-Hxy2AYUUFwXXUgU1h6aSYqI0\",\n",
       "  \"purpose\": \"fine-tune\",\n",
       "  \"filename\": \"file\",\n",
       "  \"bytes\": 3858,\n",
       "  \"created_at\": 1692904623,\n",
       "  \"status\": \"uploaded\",\n",
       "  \"status_details\": null\n",
       "}"
      ]
     },
     "execution_count": 39,
     "metadata": {},
     "output_type": "execute_result"
    }
   ],
   "source": [
    "response_upload = openai.File.create(\n",
    "  file=open(TRAINING_FILE_NAME, \"rb\"),\n",
    "  purpose='fine-tune'\n",
    ")\n",
    "\n",
    "TRAINING_FILE_ID = response_upload.id\n",
    "\n",
    "# print upload response to check if successful\n",
    "response_upload"
   ]
  },
  {
   "cell_type": "code",
   "execution_count": 83,
   "id": "2b5150f7-6537-425c-9966-7ce93ce967d2",
   "metadata": {},
   "outputs": [
    {
     "data": {
      "text/plain": [
       "<OpenAIObject list at 0x1159c3fb0> JSON: {\n",
       "  \"object\": \"list\",\n",
       "  \"data\": [\n",
       "    {\n",
       "      \"object\": \"file\",\n",
       "      \"id\": \"file-Hxy2AYUUFwXXUgU1h6aSYqI0\",\n",
       "      \"purpose\": \"fine-tune\",\n",
       "      \"filename\": \"file\",\n",
       "      \"bytes\": 3858,\n",
       "      \"created_at\": 1692904623,\n",
       "      \"status\": \"processed\",\n",
       "      \"status_details\": null\n",
       "    },\n",
       "    {\n",
       "      \"object\": \"file\",\n",
       "      \"id\": \"file-5oird9a7oX4UhX27mMx9AZBE\",\n",
       "      \"purpose\": \"fine-tune-results\",\n",
       "      \"filename\": \"step_metrics.csv\",\n",
       "      \"bytes\": 1746,\n",
       "      \"created_at\": 1692905471,\n",
       "      \"status\": \"processed\",\n",
       "      \"status_details\": null\n",
       "    }\n",
       "  ]\n",
       "}"
      ]
     },
     "execution_count": 83,
     "metadata": {},
     "output_type": "execute_result"
    }
   ],
   "source": [
    "# see uploaded files, delete unused files if necessary\n",
    "\n",
    "openai.File.list()\n",
    "#openai.File.delete(\"file-yNehrD1NPaov1ecrjJUaV3Zx\")\n"
   ]
  },
  {
   "cell_type": "markdown",
   "id": "ff2e64ae-4b28-4697-a6f9-3268a3728587",
   "metadata": {
    "jp-MarkdownHeadingCollapsed": true
   },
   "source": [
    "# Step 3: Start finetuning training job"
   ]
  },
  {
   "cell_type": "code",
   "execution_count": 40,
   "id": "757f927f-30f8-49e4-8163-7497da985eec",
   "metadata": {
    "scrolled": true
   },
   "outputs": [
    {
     "data": {
      "text/plain": [
       "<FineTuningJob fine_tuning.job id=ftjob-EZ5afGpt3H6YJDxIPDm1XMKt at 0x1157cbf50> JSON: {\n",
       "  \"object\": \"fine_tuning.job\",\n",
       "  \"id\": \"ftjob-EZ5afGpt3H6YJDxIPDm1XMKt\",\n",
       "  \"model\": \"gpt-3.5-turbo-0613\",\n",
       "  \"created_at\": 1692904759,\n",
       "  \"finished_at\": null,\n",
       "  \"fine_tuned_model\": null,\n",
       "  \"organization_id\": \"org-UHxyBndSEttpmWmDYb3DDxzn\",\n",
       "  \"result_files\": [],\n",
       "  \"status\": \"created\",\n",
       "  \"validation_file\": null,\n",
       "  \"training_file\": \"file-Hxy2AYUUFwXXUgU1h6aSYqI0\",\n",
       "  \"hyperparameters\": {\n",
       "    \"n_epochs\": 10\n",
       "  },\n",
       "  \"trained_tokens\": null\n",
       "}"
      ]
     },
     "execution_count": 40,
     "metadata": {},
     "output_type": "execute_result"
    }
   ],
   "source": [
    "job = openai.FineTuningJob.create(training_file=TRAINING_FILE_ID, model=\"gpt-3.5-turbo-0613\")\n",
    "job"
   ]
  },
  {
   "cell_type": "markdown",
   "id": "5b536906-e6cd-4fd9-a7e6-957b53a0b3a9",
   "metadata": {},
   "source": [
    "### List fine-tuning jobs and show status"
   ]
  },
  {
   "cell_type": "code",
   "execution_count": 73,
   "id": "465e5661-abd4-49e4-bf93-2cdc5c7ae238",
   "metadata": {},
   "outputs": [
    {
     "name": "stdout",
     "output_type": "stream",
     "text": [
      "*** job-id: ftjob-EZ5afGpt3H6YJDxIPDm1XMKt ***\n",
      "Status: succeeded\n",
      "21:31:13 - Fine-tuning job successfully completed\n",
      "21:31:10 - New fine-tuned model created: ft:gpt-3.5-turbo-0613:mediaworx-berlin-ag::7rAKrrlF\n",
      "21:31:06 - Step 100/100: training loss=0.01\n",
      "21:30:54 - Step 90/100: training loss=0.01\n",
      "21:30:44 - Step 80/100: training loss=0.02\n",
      "21:30:32 - Step 70/100: training loss=0.07\n",
      "21:30:22 - Step 60/100: training loss=0.08\n",
      "21:30:10 - Step 50/100: training loss=0.15\n",
      "21:29:57 - Step 40/100: training loss=0.18\n",
      "21:29:47 - Step 30/100: training loss=0.45\n",
      "21:29:35 - Step 20/100: training loss=0.39\n",
      "21:29:23 - Step 10/100: training loss=1.50\n",
      "21:19:20 - Fine tuning job started\n",
      "21:19:19 - Created fine-tune: ftjob-EZ5afGpt3H6YJDxIPDm1XMKt\n"
     ]
    }
   ],
   "source": [
    "# List fine-tuning jobs and show status\n",
    "\n",
    "jobs = openai.FineTuningJob.list(limit=10)\n",
    "\n",
    "for job in jobs.data:\n",
    "    print(\"*** job-id: \" + job.id + \" ***\")\n",
    "    print(\"Status: \" + openai.FineTuningJob.retrieve(job.id).status )\n",
    "\n",
    "    job_events = openai.FineTuningJob.list_events(id=job.id, limit=20)\n",
    "    for e in job_events.data:\n",
    "        timestamp = formatted_date = datetime.datetime.fromtimestamp(e[\"created_at\"]).strftime('%H:%M:%S')\n",
    "        print(timestamp + \" - \" + e.message)\n"
   ]
  },
  {
   "cell_type": "markdown",
   "id": "7cfbda4c-d690-4a77-83da-42ff2a43109d",
   "metadata": {},
   "source": [
    "### Check if your finetuned model is visible\n"
   ]
  },
  {
   "cell_type": "code",
   "execution_count": 82,
   "id": "7cec9f8e-35cb-4fbf-9186-d07abcc23149",
   "metadata": {},
   "outputs": [
    {
     "name": "stdout",
     "output_type": "stream",
     "text": [
      "model: ada\n",
      "model: ada-code-search-code\n",
      "model: ada-code-search-text\n",
      "model: ada-search-document\n",
      "model: ada-search-query\n",
      "model: ada-similarity\n",
      "model: babbage\n",
      "model: babbage-002\n",
      "model: babbage-code-search-code\n",
      "model: babbage-code-search-text\n",
      "model: babbage-search-document\n",
      "model: babbage-search-query\n",
      "model: babbage-similarity\n",
      "model: code-davinci-edit-001\n",
      "model: code-search-ada-code-001\n",
      "model: code-search-ada-text-001\n",
      "model: code-search-babbage-code-001\n",
      "model: code-search-babbage-text-001\n",
      "model: curie\n",
      "model: curie-instruct-beta\n",
      "model: curie-search-document\n",
      "model: curie-search-query\n",
      "model: curie-similarity\n",
      "model: davinci\n",
      "model: davinci-002\n",
      "model: davinci-instruct-beta\n",
      "model: davinci-search-document\n",
      "model: davinci-search-query\n",
      "model: davinci-similarity\n",
      "model: ft:gpt-3.5-turbo-0613:mediaworx-berlin-ag::7rAKrrlF\n",
      "model: gpt-3.5-turbo\n",
      "model: gpt-3.5-turbo-0301\n",
      "model: gpt-3.5-turbo-0613\n",
      "model: gpt-3.5-turbo-16k\n",
      "model: gpt-3.5-turbo-16k-0613\n",
      "model: text-ada-001\n",
      "model: text-babbage-001\n",
      "model: text-curie-001\n",
      "model: text-davinci-001\n",
      "model: text-davinci-002\n",
      "model: text-davinci-003\n",
      "model: text-davinci-edit-001\n",
      "model: text-embedding-ada-002\n",
      "model: text-search-ada-doc-001\n",
      "model: text-search-ada-query-001\n",
      "model: text-search-babbage-doc-001\n",
      "model: text-search-babbage-query-001\n",
      "model: text-search-curie-doc-001\n",
      "model: text-search-curie-query-001\n",
      "model: text-search-davinci-doc-001\n",
      "model: text-search-davinci-query-001\n",
      "model: text-similarity-ada-001\n",
      "model: text-similarity-babbage-001\n",
      "model: text-similarity-curie-001\n",
      "model: text-similarity-davinci-001\n",
      "model: whisper-1\n"
     ]
    }
   ],
   "source": [
    "# check if your finetuned model is visible\n",
    "\n",
    "sorted_models = sorted(models.data, key=lambda m: m.id)\n",
    "\n",
    "for m in sorted_models:\n",
    "    print(\"model: \" + m.id)"
   ]
  },
  {
   "cell_type": "markdown",
   "id": "c927bbf9-893f-4bfa-8a0a-c1a732ed673f",
   "metadata": {
    "jp-MarkdownHeadingCollapsed": true
   },
   "source": [
    "# Step 4: Query your finetuned model"
   ]
  },
  {
   "cell_type": "code",
   "execution_count": 86,
   "id": "24e9cd13-d576-4e49-90e0-fa38ab6d9501",
   "metadata": {},
   "outputs": [
    {
     "name": "stdout",
     "output_type": "stream",
     "text": [
      "{\n",
      "  \"role\": \"assistant\",\n",
      "  \"content\": \"Wir empfehlen nur spezielle Reinigungsmittel, um Besch\\u00e4digungen zu vermeiden.\"\n",
      "}\n"
     ]
    }
   ],
   "source": [
    "\n",
    "MODEL = \"ft:gpt-3.5-turbo-0613:mediaworx-berlin-ag::7rAKrrlF\" # TODO: Enter your model name\n",
    "\n",
    "completion = openai.ChatCompletion.create(\n",
    "  model=MODEL,\n",
    "  messages=[\n",
    "    {\"role\": \"system\", \"content\": \"Du chattest jetzt mit dem Kundenservice für den Hochleistungs-Staubsauger T-1000.\"},\n",
    "    {\"role\": \"user\", \"content\": \"Ich will meinen T-1000 mit Pril reinigen. Geht das?\"}\n",
    "  ]\n",
    ")\n",
    "\n",
    "print(completion.choices[0].message)"
   ]
  },
  {
   "cell_type": "code",
   "execution_count": null,
   "id": "64d2e3cd-a6ed-4ec3-af0f-861a3f0ed91a",
   "metadata": {},
   "outputs": [],
   "source": []
  }
 ],
 "metadata": {
  "kernelspec": {
   "display_name": "Python 3 (ipykernel)",
   "language": "python",
   "name": "python3"
  },
  "language_info": {
   "codemirror_mode": {
    "name": "ipython",
    "version": 3
   },
   "file_extension": ".py",
   "mimetype": "text/x-python",
   "name": "python",
   "nbconvert_exporter": "python",
   "pygments_lexer": "ipython3",
   "version": "3.11.4"
  }
 },
 "nbformat": 4,
 "nbformat_minor": 5
}
